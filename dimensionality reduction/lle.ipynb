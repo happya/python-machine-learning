{
 "cells": [
  {
   "cell_type": "code",
   "execution_count": 64,
   "metadata": {},
   "outputs": [
    {
     "ename": "ModuleNotFoundError",
     "evalue": "No module named 'KMeans'",
     "traceback": [
      "\u001b[1;31m---------------------------------------------------------------------------\u001b[0m",
      "\u001b[1;31mModuleNotFoundError\u001b[0m                       Traceback (most recent call last)",
      "\u001b[1;32m<ipython-input-64-9007f0d54782>\u001b[0m in \u001b[0;36m<module>\u001b[1;34m()\u001b[0m\n\u001b[0;32m      1\u001b[0m \u001b[1;32mimport\u001b[0m \u001b[0mnumpy\u001b[0m \u001b[1;32mas\u001b[0m \u001b[0mnp\u001b[0m\u001b[1;33m\u001b[0m\u001b[0m\n\u001b[1;32m----> 2\u001b[1;33m \u001b[1;32mfrom\u001b[0m \u001b[0mKMeans\u001b[0m \u001b[1;32mimport\u001b[0m \u001b[1;33m*\u001b[0m\u001b[1;33m\u001b[0m\u001b[0m\n\u001b[0m",
      "\u001b[1;31mModuleNotFoundError\u001b[0m: No module named 'KMeans'"
     ],
     "output_type": "error"
    }
   ],
   "source": [
    "import numpy as np\n",
    "from KMeans import *"
   ]
  },
  {
   "cell_type": "code",
   "execution_count": 13,
   "metadata": {
    "collapsed": true
   },
   "outputs": [],
   "source": [
    "def distance(inX):\n",
    "    # input data matrix inX: D x N\n",
    "    # calculate distance matrix, since the exact value is not important, we don't calculate square root\n",
    "    # return: distance Matrix (N xN)\n",
    "    D, N = np.shape(inX)\n",
    "    inX2 = np.array(inX.sum(1))**2\n",
    "    distance = np.tile(inX2, (N, 1)) + np.tile(inX2.T, (1, N)) -2.*np.mat(inX2.T)*np.mat(inX2)\n",
    "    return np.mat(distance)"
   ]
  },
  {
   "cell_type": "code",
   "execution_count": 61,
   "metadata": {
    "collapsed": true
   },
   "outputs": [],
   "source": [
    "def laplacianEigen(distance, k, d):\n",
    "    # W: similarity matrix, symmetrix, if two nodes are connected, set as 1; otherwise, set as 0\n",
    "    # D: degree matrix, define the number of nodes connected\n",
    "    # L: Laplacian matrix, L = D-W\n",
    "    index = np.argsort(np.array(distance),axis=0)\n",
    "    neighbors = index[1:k+1, :]\n",
    "    W = np.zeros((N,N))\n",
    "    for i in range(N):\n",
    "        neighbor = neighbors[:, i] # for node i, find its k-nearest neighbors\n",
    "        # init W\n",
    "        W[i, neighbor] = 1\n",
    "        W[neighbor, i] = 1\n",
    "    D = np.diag(W.sum(1))\n",
    "    L = D -W\n",
    "    eigs, eigvec = np.linalg(L)\n",
    "    idx = np.argsort(eigs)\n",
    "    vec = eigvec[:, -1-d:-1]\n",
    "    return np.mat(vec).T*sqrt(N)"
   ]
  },
  {
   "cell_type": "code",
   "execution_count": null,
   "metadata": {
    "collapsed": true
   },
   "outputs": [],
   "source": [
    ""
   ]
  }
 ],
 "metadata": {
  "kernelspec": {
   "display_name": "Python 3",
   "language": "python",
   "name": "python3"
  },
  "language_info": {
   "codemirror_mode": {
    "name": "ipython",
    "version": 3.0
   },
   "file_extension": ".py",
   "mimetype": "text/x-python",
   "name": "python",
   "nbconvert_exporter": "python",
   "pygments_lexer": "ipython3",
   "version": "3.6.1"
  }
 },
 "nbformat": 4,
 "nbformat_minor": 0
}