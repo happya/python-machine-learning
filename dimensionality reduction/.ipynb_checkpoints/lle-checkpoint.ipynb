{
 "cells": [
  {
   "cell_type": "markdown",
   "metadata": {
    "collapsed": true
   },
   "source": [
    "## Laplacian Eigenmap\n",
    "---"
   ]
  },
  {
   "cell_type": "markdown",
   "metadata": {},
   "source": [
    "input: inX ($D\\times N$ 矩阵)， D: dimension, N: 数据点个数，即每列为一个数据；  \n",
    "\n",
    "1. 构造距离矩阵distance ($N\\times N$)，即计算inX中任意两个点的距离，可以是欧氏距离，测地距离等等;\n",
    "\n",
    "2. 构造相似度矩阵W：选择每个数据点的K个最近邻点，距离近则认为相似度高。最简单的情况是，将每个点与K个最近邻点的边权值设为1(有连接)，其他的设为0 (无连接)，可以看出，W是个对称矩阵；\n",
    "\n",
    "3. 构造D: D是图的度矩阵，表示的是图中每个节点V的度，即每个点出发的edge数，所以是个对角阵，可以通过对W每列求和得到其对角线的值；\n",
    "\n",
    "4. 构造Laplacian矩阵L: L = D -W;\n",
    "\n",
    "5. 降维：求解L的特征值与特征向量，根据实际需求，取前d个最大的特征值 (d< D)，用对应的d个特征向量表示原始的D维数据在d维空间的表达outY，达到对数据降维的目的；\n",
    "\n",
    "6. 聚类：对降维后的数据outY进行聚类。\n",
    "\n"
   ]
  },
  {
   "cell_type": "code",
   "execution_count": null,
   "metadata": {
    "collapsed": true
   },
   "outputs": [],
   "source": []
  }
 ],
 "metadata": {
  "kernelspec": {
   "display_name": "Python 3",
   "language": "python",
   "name": "python3"
  },
  "language_info": {
   "codemirror_mode": {
    "name": "ipython",
    "version": 3
   },
   "file_extension": ".py",
   "mimetype": "text/x-python",
   "name": "python",
   "nbconvert_exporter": "python",
   "pygments_lexer": "ipython3",
   "version": "3.6.1"
  }
 },
 "nbformat": 4,
 "nbformat_minor": 1
}
