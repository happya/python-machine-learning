{
 "cells": [
  {
   "cell_type": "code",
   "execution_count": 1,
   "metadata": {
    "collapsed": true
   },
   "outputs": [],
   "source": [
    "import numpy as np\n",
    "def loadDataSet():\n",
    "    return [[1, 3, 4], [2, 3, 5], [1, 2, 3, 5], [2, 5]]"
   ]
  },
  {
   "cell_type": "code",
   "execution_count": 14,
   "metadata": {
    "collapsed": false
   },
   "outputs": [],
   "source": [
    "def creat_C1(dataset):\n",
    "    C1 = []\n",
    "    for tra in dataset:\n",
    "        for item in tra:\n",
    "            if [item] not in C1:\n",
    "                C1.append([item])\n",
    "    C1.sort()\n",
    "    return map(frozenset, C1)\n",
    "\n",
    "def scan_D(D, Ck, minisupport):\n",
    "    ssCnt = {}\n",
    "    for iid in D:\n",
    "        for record in Ck:\n",
    "            if record.issubset(iid):\n",
    "                ssCnt[record] = ssCnt.get(record,0)+1\n",
    "    num = float(len(D))\n",
    "    support_data = {}\n",
    "    retlist = []\n",
    "    for key in ssCnt:\n",
    "        s = ssCnt[key]/num\n",
    "        if s >= minisupport:\n",
    "            retlist.insert(0,key)\n",
    "            support_data[key] = s\n",
    "    return retlist, support_data"
   ]
  },
  {
   "cell_type": "markdown",
   "metadata": {
    "collapsed": true
   },
   "source": [
    "当集合中项的个数大于0时：\n",
    "\n",
    "   - 构建一个*k*个项组成的候选项集的列表 $C_k$  \n",
    "   - 检查数据以确认每个项集都是频繁的, 得到$L_k$\n",
    "   - 保留频繁项集并构建*k+1*项组成的候选项集列表"
   ]
  },
  {
   "cell_type": "code",
   "execution_count": 28,
   "metadata": {
    "collapsed": true
   },
   "outputs": [],
   "source": [
    "def apriori(dataset,minSupport=0.5):\n",
    "    C1 = creat_C1(dataset)\n",
    "    print C1\n",
    "    D = map(set, dataset)\n",
    "    L1, supportData = scan_D(D,C1,minSupport)\n",
    "    L = [L1]\n",
    "    print L1\n",
    "    k = 2\n",
    "    while (len(L[k-2])>0):\n",
    "        Ck = aprioriGen(L[k-2],k)\n",
    "        Lk,supK = scan_D(D,Ck,minSupport)\n",
    "        print \"Ck: \",Ck,\"Lk: \", Lk, \"supK: \", supK\n",
    "        L.append(Lk)\n",
    "        supportData.update(supK)\n",
    "        k+=1\n",
    "    return L, supportData\n",
    "\n",
    "# 从Lk中生成含有k个元素的候选项集\n",
    "def aprioriGen(Lk,k):\n",
    "    retL = []\n",
    "    n = len(Lk)\n",
    "    for i in range(n-1):\n",
    "        for j in range(i+1,n):\n",
    "            L1 = list(Lk[i])[:k-2]\n",
    "            L2 = list(Lk[j])[:k-2]\n",
    "            L1.sort()\n",
    "            L2.sort()\n",
    "            if L1==L2:\n",
    "                retL.append(Lk[i]|Lk[j])\n",
    "    return retL   "
   ]
  },
  {
   "cell_type": "code",
   "execution_count": 29,
   "metadata": {
    "collapsed": false
   },
   "outputs": [
    {
     "name": "stdout",
     "output_type": "stream",
     "text": [
      "[frozenset([1]), frozenset([2]), frozenset([3]), frozenset([4]), frozenset([5])]\n",
      "[frozenset([1]), frozenset([3]), frozenset([2]), frozenset([5])]\n",
      "Ck:  [frozenset([1, 3]), frozenset([1, 2]), frozenset([1, 5]), frozenset([2, 3]), frozenset([3, 5]), frozenset([2, 5])] Lk:  [frozenset([1, 3]), frozenset([2, 5]), frozenset([2, 3]), frozenset([3, 5])] supK:  {frozenset([1, 3]): 0.5, frozenset([2, 3]): 0.5, frozenset([3, 5]): 0.5, frozenset([2, 5]): 0.75}\n",
      "Ck:  [frozenset([2, 3, 5])] Lk:  [frozenset([2, 3, 5])] supK:  {frozenset([2, 3, 5]): 0.5}\n",
      "Ck:  [] Lk:  [] supK:  {}\n"
     ]
    }
   ],
   "source": [
    "dataset = loadDataSet()\n",
    "L, supportData = apriori(dataset,minSupport=0.5)"
   ]
  },
  {
   "cell_type": "code",
   "execution_count": 32,
   "metadata": {
    "collapsed": false
   },
   "outputs": [],
   "source": [
    "def gen_Rules(L,supportData, minconf=0.7):\n",
    "    big_rule_list = []\n",
    "    for i in range(1,len(L)):\n",
    "        for freqset in L[i]:\n",
    "            H1 = [frozenset([item]) for item in freqset]\n",
    "            if i>1:\n",
    "                rules_from_conseq(freqset,H1,supportData,big_rule_list, minconf)\n",
    "            else:\n",
    "                calcconf(freqset,H1,supportData,big_rule_list,minconf)\n",
    "    return big_rule_list\n",
    "\n",
    "# P-->H 置信度计算为 supportdata(P|H)/supportdata(P)\n",
    "def calcconf(freqset,H,supdata,big_rule,minconf):\n",
    "    prunedH = []\n",
    "    for conseq in H:\n",
    "        conf = supdata[freqset]/supdata[freqset-conseq]\n",
    "        if conf>=minconf:\n",
    "            big_rule.append((freqset-conseq, conseq, conf))\n",
    "            prunedH.append(conseq)\n",
    "            print freqset-conseq, '--->',conseq, conf\n",
    "    return prunedH\n",
    "\n",
    "def rules_from_conseq(freqset,H,supdata,big_rule_list,minconf):\n",
    "    m = len(H[0])\n",
    "    if len(freqset)>m+1:\n",
    "        Hmp1 = aprioriGen(H,m+1) \n",
    "        Hmp1 = calcconf(freqset,Hmp1,supdata,big_rule_list,minconf)\n",
    "        if len(Hmp1)>1:\n",
    "            rules_from_conseq(freqset,Hmp1,supdata,big_rule_list,minconf)"
   ]
  },
  {
   "cell_type": "code",
   "execution_count": 33,
   "metadata": {
    "collapsed": false
   },
   "outputs": [
    {
     "name": "stdout",
     "output_type": "stream",
     "text": [
      "frozenset([1]) ---> frozenset([3]) 1.0\n",
      "frozenset([5]) ---> frozenset([2]) 1.0\n",
      "frozenset([2]) ---> frozenset([5]) 1.0\n"
     ]
    },
    {
     "data": {
      "text/plain": [
       "[(frozenset({1}), frozenset({3}), 1.0),\n",
       " (frozenset({5}), frozenset({2}), 1.0),\n",
       " (frozenset({2}), frozenset({5}), 1.0)]"
      ]
     },
     "execution_count": 33,
     "metadata": {},
     "output_type": "execute_result"
    }
   ],
   "source": [
    "gen_Rules(L,supportData,minconf=0.7)"
   ]
  },
  {
   "cell_type": "code",
   "execution_count": null,
   "metadata": {
    "collapsed": true
   },
   "outputs": [],
   "source": []
  },
  {
   "cell_type": "code",
   "execution_count": null,
   "metadata": {
    "collapsed": true
   },
   "outputs": [],
   "source": []
  }
 ],
 "metadata": {
  "kernelspec": {
   "display_name": "Python 2",
   "language": "python",
   "name": "python2"
  },
  "language_info": {
   "codemirror_mode": {
    "name": "ipython",
    "version": 2
   },
   "file_extension": ".py",
   "mimetype": "text/x-python",
   "name": "python",
   "nbconvert_exporter": "python",
   "pygments_lexer": "ipython2",
   "version": "2.7.12"
  }
 },
 "nbformat": 4,
 "nbformat_minor": 1
}
